{
  "nbformat": 4,
  "nbformat_minor": 0,
  "metadata": {
    "colab": {
      "provenance": []
    },
    "kernelspec": {
      "name": "python3",
      "display_name": "Python 3"
    },
    "language_info": {
      "name": "python"
    }
  },
  "cells": [
    {
      "cell_type": "code",
      "execution_count": 1,
      "metadata": {
        "colab": {
          "base_uri": "https://localhost:8080/"
        },
        "id": "i9EXbSuwSpkH",
        "outputId": "6a989f6f-87ee-4de3-f453-d73bb95b11c1"
      },
      "outputs": [
        {
          "output_type": "stream",
          "name": "stdout",
          "text": [
            "I'm a student\n"
          ]
        }
      ],
      "source": [
        "a = \"I'm a student\"\n",
        "print(a)"
      ]
    },
    {
      "cell_type": "code",
      "source": [
        "x1=float(input('請輸入x1'))\n",
        "y1=float(input('請輸入y1'))\n",
        "x2=float(input('請輸入x2'))\n",
        "y2=float(input('請輸入y2'))\n",
        "print(((x1-x2)**2+(y1-y2)**2)**1/2)"
      ],
      "metadata": {
        "colab": {
          "base_uri": "https://localhost:8080/"
        },
        "id": "WeOrITVPTWly",
        "outputId": "e68d6814-63b5-437b-d592-e37b8edb51f1"
      },
      "execution_count": 12,
      "outputs": [
        {
          "output_type": "stream",
          "name": "stdout",
          "text": [
            "請輸入x10\n",
            "請輸入y10\n",
            "請輸入x21\n",
            "請輸入y21\n",
            "1.0\n"
          ]
        }
      ]
    },
    {
      "cell_type": "code",
      "source": [
        "weight=float(input('請輸入體重（kg)'))\n",
        "height=float(input('請輸入身高（cm)'))\n",
        "height/=100\n",
        "BMI=weight/height**2\n",
        "print(BMI)"
      ],
      "metadata": {
        "colab": {
          "base_uri": "https://localhost:8080/"
        },
        "id": "rOrbmxVAU2OX",
        "outputId": "f010a5d4-2c98-4f09-f423-723198089516"
      },
      "execution_count": 1,
      "outputs": [
        {
          "output_type": "stream",
          "name": "stdout",
          "text": [
            "請輸入體重（kg)49\n",
            "請輸入身高（cm)157\n",
            "19.879102600511175\n"
          ]
        }
      ]
    }
  ]
}