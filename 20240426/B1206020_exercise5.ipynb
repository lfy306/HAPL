{
  "nbformat": 4,
  "nbformat_minor": 0,
  "metadata": {
    "colab": {
      "provenance": []
    },
    "kernelspec": {
      "name": "python3",
      "display_name": "Python 3"
    },
    "language_info": {
      "name": "python"
    }
  },
  "cells": [
    {
      "cell_type": "code",
      "source": [
        "a=1\n",
        "while a<10:\n",
        "  b=1\n",
        "  while b<10:\n",
        "    print('{}x{}={}\\t'.format(b,a,a*b),end='')\n",
        "    b+=1\n",
        "  print()\n",
        "  a+=1"
      ],
      "metadata": {
        "colab": {
          "base_uri": "https://localhost:8080/"
        },
        "id": "JkKwtxYdAqdN",
        "outputId": "5cbad30f-77ff-46ab-eb18-68272ed403e9"
      },
      "execution_count": 2,
      "outputs": [
        {
          "output_type": "stream",
          "name": "stdout",
          "text": [
            "1x1=1\t2x1=2\t3x1=3\t4x1=4\t5x1=5\t6x1=6\t7x1=7\t8x1=8\t9x1=9\t\n",
            "1x2=2\t2x2=4\t3x2=6\t4x2=8\t5x2=10\t6x2=12\t7x2=14\t8x2=16\t9x2=18\t\n",
            "1x3=3\t2x3=6\t3x3=9\t4x3=12\t5x3=15\t6x3=18\t7x3=21\t8x3=24\t9x3=27\t\n",
            "1x4=4\t2x4=8\t3x4=12\t4x4=16\t5x4=20\t6x4=24\t7x4=28\t8x4=32\t9x4=36\t\n",
            "1x5=5\t2x5=10\t3x5=15\t4x5=20\t5x5=25\t6x5=30\t7x5=35\t8x5=40\t9x5=45\t\n",
            "1x6=6\t2x6=12\t3x6=18\t4x6=24\t5x6=30\t6x6=36\t7x6=42\t8x6=48\t9x6=54\t\n",
            "1x7=7\t2x7=14\t3x7=21\t4x7=28\t5x7=35\t6x7=42\t7x7=49\t8x7=56\t9x7=63\t\n",
            "1x8=8\t2x8=16\t3x8=24\t4x8=32\t5x8=40\t6x8=48\t7x8=56\t8x8=64\t9x8=72\t\n",
            "1x9=9\t2x9=18\t3x9=27\t4x9=36\t5x9=45\t6x9=54\t7x9=63\t8x9=72\t9x9=81\t\n"
          ]
        }
      ]
    },
    {
      "cell_type": "code",
      "source": [
        "import random\n",
        "def generate_answer():\n",
        "  answer = random.sample(range(1, 10), 4)\n",
        "  return answer\n",
        "def check_guess(guess, answer):\n",
        "  a=0\n",
        "  b=0\n",
        "  for i in range(len(guess)):\n",
        "    if guess[i] == answer[i]:\n",
        "      a+=1\n",
        "    elif guess[i] in answer:\n",
        "      b+=1\n",
        "  return a, b\n",
        "def main():\n",
        "  answer = generate_answer()\n",
        "  print('答案:', answer)\n",
        "  count=0\n",
        "  while True:\n",
        "    guess_str = input('輸入四個數字(不會重複):')\n",
        "    if len(guess_str) != 4:\n",
        "      print('輸入數字過多或過少, 請輸入四個數字(不會重複)')\n",
        "      continue\n",
        "    guess = list(map(int, guess_str))\n",
        "    a, b = check_guess(guess, answer)\n",
        "    print(f'{guess_str}: {a}A{b}B')\n",
        "    count += 1\n",
        "    if a == 4:\n",
        "      print(f'答對了!總共猜了{count}次')\n",
        "      break\n",
        "if __name__ == '__main__':\n",
        "  main()"
      ],
      "metadata": {
        "colab": {
          "base_uri": "https://localhost:8080/"
        },
        "id": "Q6NbVSiWDAF1",
        "outputId": "312ca5b3-79c2-49f4-8955-578c37967ac6"
      },
      "execution_count": 5,
      "outputs": [
        {
          "output_type": "stream",
          "name": "stdout",
          "text": [
            "答案: [4, 9, 1, 2]\n",
            "輸入四個數字(不會重複):1357\n",
            "1357: 0A1B\n",
            "輸入四個數字(不會重複):4683\n",
            "4683: 1A0B\n",
            "輸入四個數字(不會重複):8930\n",
            "8930: 1A0B\n",
            "輸入四個數字(不會重複):12346\n",
            "輸入數字過多或過少, 請輸入四個數字(不會重複)\n",
            "輸入四個數字(不會重複):1357\n",
            "1357: 0A1B\n",
            "輸入四個數字(不會重複):4912\n",
            "4912: 4A0B\n",
            "答對了!總共猜了5次\n"
          ]
        }
      ]
    }
  ]
}