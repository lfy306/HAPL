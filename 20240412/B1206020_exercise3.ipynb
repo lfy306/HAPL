{
  "nbformat": 4,
  "nbformat_minor": 0,
  "metadata": {
    "colab": {
      "provenance": []
    },
    "kernelspec": {
      "name": "python3",
      "display_name": "Python 3"
    },
    "language_info": {
      "name": "python"
    }
  },
  "cells": [
    {
      "cell_type": "code",
      "execution_count": 27,
      "metadata": {
        "colab": {
          "base_uri": "https://localhost:8080/"
        },
        "id": "OWl76_wj09Y_",
        "outputId": "53c7c3b1-b629-4011-f8a9-5f0cee0ebcab"
      },
      "outputs": [
        {
          "output_type": "stream",
          "name": "stdout",
          "text": [
            "請輸入體重(kg)49\n",
            "請輸入身高(cm)157\n",
            "BMI: 19.879102600511175\n",
            "體位:適中\n"
          ]
        }
      ],
      "source": [
        "weight=float(input('請輸入體重(kg)'))\n",
        "height=float(input('請輸入身高(cm)'))\n",
        "height/=100\n",
        "BMI=weight/height**2\n",
        "print('BMI:',BMI)\n",
        "\n",
        "if BMI<18.5:\n",
        "  print('體位:過輕')\n",
        "elif 18.5<=BMI<24:\n",
        "  print('體位:適中')\n",
        "elif 24<=BMI<27:\n",
        "  print('體位:過重')\n",
        "else:\n",
        "  print('體位:肥胖')\n"
      ]
    },
    {
      "cell_type": "code",
      "source": [
        "a=float(input('請輸入第一個數字:'))\n",
        "b=str(input('請輸入運算符號:'))\n",
        "c=float(input('請輸入第二個數字:'))\n",
        "\n",
        "if b=='+':\n",
        "  print(a+c)\n",
        "elif b=='-':\n",
        "  print(a-c)\n",
        "elif b=='*':\n",
        "  print(a*c)\n",
        "elif b=='/':\n",
        "  print(a/b)"
      ],
      "metadata": {
        "colab": {
          "base_uri": "https://localhost:8080/"
        },
        "id": "Mh97X5kB31SF",
        "outputId": "cebb90d9-d91b-473a-e4d6-1dccbab5ced5"
      },
      "execution_count": 25,
      "outputs": [
        {
          "output_type": "stream",
          "name": "stdout",
          "text": [
            "請輸入第一個數字:1\n",
            "請輸入運算符號:+\n",
            "請輸入第二個數字:1\n",
            "2.0\n"
          ]
        }
      ]
    },
    {
      "cell_type": "code",
      "source": [],
      "metadata": {
        "id": "Tg5-mjgcBAqw"
      },
      "execution_count": null,
      "outputs": []
    }
  ]
}