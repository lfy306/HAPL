{
  "nbformat": 4,
  "nbformat_minor": 0,
  "metadata": {
    "colab": {
      "provenance": []
    },
    "kernelspec": {
      "name": "python3",
      "display_name": "Python 3"
    },
    "language_info": {
      "name": "python"
    }
  },
  "cells": [
    {
      "cell_type": "code",
      "execution_count": 3,
      "metadata": {
        "colab": {
          "base_uri": "https://localhost:8080/"
        },
        "id": "oc6huWiy9kQX",
        "outputId": "d07677c0-47ad-4968-bbc3-19cb4ab37d87"
      },
      "outputs": [
        {
          "output_type": "stream",
          "name": "stdout",
          "text": [
            "請輸入年份：2024\n",
            "2024.0 年是閏年\n"
          ]
        }
      ],
      "source": [
        "year=float(input('請輸入年份：'))\n",
        "if year<1582 and year % 4==0:\n",
        "  print(year, '年是閏年')\n",
        "elif year>1582 and year % 4==0 and (year % 100!=0 or year % 400==0):\n",
        "  print(year, '年是閏年')\n",
        "else:\n",
        "  print(year, '年是平年')\n"
      ]
    }
  ]
}