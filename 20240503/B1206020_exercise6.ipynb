{
  "nbformat": 4,
  "nbformat_minor": 0,
  "metadata": {
    "colab": {
      "provenance": []
    },
    "kernelspec": {
      "name": "python3",
      "display_name": "Python 3"
    },
    "language_info": {
      "name": "python"
    }
  },
  "cells": [
    {
      "cell_type": "code",
      "execution_count": 7,
      "metadata": {
        "colab": {
          "base_uri": "https://localhost:8080/"
        },
        "id": "0u6KsT6SGA5z",
        "outputId": "6bf6e4d0-ac71-4135-9a5c-e0ed0a1ba14d"
      },
      "outputs": [
        {
          "output_type": "stream",
          "name": "stdout",
          "text": [
            "請輸入聖誕樹的高度(至少7層):7\n",
            "      *\n",
            "     ***\n",
            "    *****\n",
            "   *******\n",
            "  *********\n",
            " ***********\n",
            "*************\n",
            "    ***\n",
            "    ***\n",
            "    ***\n",
            "    ***\n",
            "    ***\n"
          ]
        }
      ],
      "source": [
        "def draw_christmas_tree(height):\n",
        "  for x in range(1,height +1):\n",
        "    spaces = ' '*(height -x)\n",
        "    stars = '*'*(2*x-1)\n",
        "    print(spaces+stars)\n",
        "  trunk_spaces=' '*(height-3)\n",
        "  for _ in range(5):\n",
        "    print(trunk_spaces + '***')\n",
        "height=int(input('請輸入聖誕樹的高度(至少7層):'))\n",
        "draw_christmas_tree(height)"
      ]
    },
    {
      "cell_type": "code",
      "source": [
        "def calculate_BMI(weight,height):\n",
        "  try:\n",
        "    weight=float(weight)\n",
        "    height=float(height)/100\n",
        "    BMI=weight/(height**2)\n",
        "    return BMI\n",
        "  except ValueError:\n",
        "    raise ValueError('輸入內容錯誤')\n",
        "def determine_body_status(BMI):\n",
        "  if BMI<18.5:\n",
        "    return'過輕'\n",
        "  elif BMI<24:\n",
        "    return'適中'\n",
        "  elif BMI<27:\n",
        "    return'過重'\n",
        "  elif BMI>=27:\n",
        "    return'肥胖'\n",
        "\n",
        "try:\n",
        "  weight=input('請輸入體重(kg):')\n",
        "  height=input('請輸入身高(cm):')\n",
        "\n",
        "  BMI=calculate_BMI(weight,height)\n",
        "  body_status=determine_body_status(BMI)\n",
        "  print('BMI:',BMI)\n",
        "  print('體位:',body_status)\n",
        "except ValueError as e:\n",
        "  print('輸入內容錯誤',e)"
      ],
      "metadata": {
        "colab": {
          "base_uri": "https://localhost:8080/"
        },
        "id": "E9IJUfC4MDQN",
        "outputId": "5cbbbef5-bba9-496e-ef30-dbabf88d4f5a"
      },
      "execution_count": 15,
      "outputs": [
        {
          "output_type": "stream",
          "name": "stdout",
          "text": [
            "請輸入體重(kg):49\n",
            "請輸入身高(cm):157\n",
            "BMI: 19.879102600511175\n",
            "體位: 適中\n"
          ]
        }
      ]
    }
  ]
}