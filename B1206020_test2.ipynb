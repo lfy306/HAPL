{
  "nbformat": 4,
  "nbformat_minor": 0,
  "metadata": {
    "colab": {
      "provenance": []
    },
    "kernelspec": {
      "name": "python3",
      "display_name": "Python 3"
    },
    "language_info": {
      "name": "python"
    }
  },
  "cells": [
    {
      "cell_type": "code",
      "execution_count": null,
      "metadata": {
        "colab": {
          "base_uri": "https://localhost:8080/"
        },
        "id": "FkKKb-Q0Y9VQ",
        "outputId": "1e56eb4d-cc1e-4339-ae56-a130867d5203"
      },
      "outputs": [
        {
          "output_type": "stream",
          "name": "stdout",
          "text": [
            "Ans. is =  11.11111111111111\n"
          ]
        }
      ],
      "source": [
        "y=4\n",
        "\n",
        "a=100\n",
        "b=2*y+1\n",
        "\n",
        "z=a/b\n",
        "\n",
        "print(\"Ans. is = \", z)"
      ]
    }
  ]
}